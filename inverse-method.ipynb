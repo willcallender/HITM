{
 "cells": [
  {
   "attachments": {},
   "cell_type": "markdown",
   "metadata": {},
   "source": [
    "Setup"
   ]
  },
  {
   "cell_type": "code",
   "execution_count": null,
   "metadata": {},
   "outputs": [],
   "source": [
    "import numpy as np\n",
    "import matplotlib.pyplot as plt\n",
    "from scipy.integrate import solve_ivp\n",
    "from scipy.optimize import minimize\n",
    "from scipy.fft import fft, ifft\n",
    "import pickle\n",
    "\n",
    "from kpz import *\n",
    "from inverse import *"
   ]
  },
  {
   "cell_type": "code",
   "execution_count": null,
   "metadata": {},
   "outputs": [],
   "source": [
    "n = 100\n",
    "t = np.array([10, 30])"
   ]
  },
  {
   "attachments": {},
   "cell_type": "markdown",
   "metadata": {},
   "source": [
    "Load Daryn's data"
   ]
  },
  {
   "cell_type": "code",
   "execution_count": null,
   "metadata": {},
   "outputs": [],
   "source": [
    "# load real data\n",
    "filename = 'spread.pickle'\n",
    "with open(filename, 'rb') as f:\n",
    "    spread = pickle.load(f)"
   ]
  },
  {
   "attachments": {},
   "cell_type": "markdown",
   "metadata": {},
   "source": [
    "Extract the firelines of interest"
   ]
  },
  {
   "cell_type": "code",
   "execution_count": null,
   "metadata": {},
   "outputs": [],
   "source": [
    "firstFireline = spread[t[0]]\n",
    "firstx = firstFireline[0]\n",
    "firsth = firstFireline[1]\n",
    "plt.plot(firstx, firsth, label='first fireline')\n",
    "\n",
    "lastFireline = spread[t[1]]\n",
    "lastx = lastFireline[0]\n",
    "lasth = lastFireline[1]\n",
    "plt.plot(lastx, lasth, label='last fireline')\n",
    "plt.legend()"
   ]
  },
  {
   "attachments": {},
   "cell_type": "markdown",
   "metadata": {},
   "source": [
    "Truncate the firelines to only include the portion of the fireline that is spreading. Ie not the sides\n",
    "\n",
    "Currently the bounds are specified manually"
   ]
  },
  {
   "cell_type": "code",
   "execution_count": null,
   "metadata": {},
   "outputs": [],
   "source": [
    "x0 = 100\n",
    "xn = 250\n",
    "x_bounds = np.array([x0, xn])\n",
    "firstx = truncate(firstx, x_bounds)\n",
    "firsth = truncate(firsth, x_bounds)\n",
    "lastx = truncate(lastx, x_bounds)\n",
    "lasth = truncate(lasth, x_bounds)\n",
    "plt.plot(firstx, firsth, label='first fireline')\n",
    "plt.plot(lastx, lasth, label='last fireline')\n",
    "plt.legend()"
   ]
  },
  {
   "attachments": {},
   "cell_type": "markdown",
   "metadata": {},
   "source": [
    "Perform the inverse method"
   ]
  },
  {
   "cell_type": "code",
   "execution_count": null,
   "metadata": {},
   "outputs": [],
   "source": [
    "h, x, ha_result, y_bounds = inverse(np.array([firsth, lasth]), t, n)\n",
    "ha_result"
   ]
  },
  {
   "attachments": {},
   "cell_type": "markdown",
   "metadata": {},
   "source": [
    "Show the fitted parameters"
   ]
  },
  {
   "cell_type": "code",
   "execution_count": null,
   "metadata": {},
   "outputs": [],
   "source": [
    "a_opt = ha_result.x\n",
    "final = solveKPZ(h[0], t, a_opt)\n",
    "plt.clf()\n",
    "plt.plot(x, h[0], 'k-', label='first fireline')\n",
    "plt.plot(x, h[1], 'b-', label='final fireline')\n",
    "plt.plot(x, final.y[:, -1], 'r-', label='final reconstructed')\n",
    "plt.legend()"
   ]
  },
  {
   "attachments": {},
   "cell_type": "markdown",
   "metadata": {},
   "source": [
    "Verify the solution by comparing to a fireline it hasn't seen"
   ]
  },
  {
   "cell_type": "code",
   "execution_count": null,
   "metadata": {},
   "outputs": [],
   "source": [
    "# verify the inverse method by predicting a later fireline\n",
    "t[1] = 50\n",
    "verifyFireline = spread[t[1]]\n",
    "verifyh = verifyFireline[1]\n",
    "verifyh = truncate(verifyh, (x0, xn))\n",
    "verifyh_smooth = smooth(verifyh, n)\n",
    "verifyh_smooth = normalize(verifyh_smooth, y_bounds)\n",
    "verify = solveKPZ(h[0], t, a_opt)\n",
    "plt.clf()\n",
    "plt.plot(x, h[0], 'k-', label='first fireline')\n",
    "plt.plot(x, h[1], 'b-', label='final fireline')\n",
    "plt.plot(x, verifyh_smooth, 'g-', label='verification fireline')\n",
    "plt.plot(x, verify.y[:, -1], 'r-', label='verification reconstructed')\n",
    "plt.legend()"
   ]
  },
  {
   "attachments": {},
   "cell_type": "markdown",
   "metadata": {},
   "source": [
    "Calculate distribution of the deviation/roughness"
   ]
  },
  {
   "cell_type": "code",
   "execution_count": null,
   "metadata": {},
   "outputs": [],
   "source": [
    "err = verifyh_smooth - verify.y[:, -1]\n",
    "err.shape\n",
    "plt.clf()\n",
    "_ = plt.hist(err, bins=100)"
   ]
  },
  {
   "attachments": {},
   "cell_type": "markdown",
   "metadata": {},
   "source": [
    "margin of error for c v lamb"
   ]
  },
  {
   "attachments": {},
   "cell_type": "markdown",
   "metadata": {},
   "source": [
    "find distributions for c v lamb"
   ]
  },
  {
   "attachments": {},
   "cell_type": "markdown",
   "metadata": {},
   "source": [
    "and find power law (in paper about burning paper)"
   ]
  },
  {
   "attachments": {},
   "cell_type": "markdown",
   "metadata": {},
   "source": [
    "basically, investigating what's wrong with the KPZ equation and what it's failing to capture. if c v lamb don't capture much if any useful information about the spread, then the model isn't so good and i'll need a new equation"
   ]
  },
  {
   "attachments": {},
   "cell_type": "markdown",
   "metadata": {},
   "source": [
    "markov chain mc model for c v lamb"
   ]
  }
 ],
 "metadata": {
  "kernelspec": {
   "display_name": "Python 3",
   "language": "python",
   "name": "python3"
  },
  "language_info": {
   "codemirror_mode": {
    "name": "ipython",
    "version": 3
   },
   "file_extension": ".py",
   "mimetype": "text/x-python",
   "name": "python",
   "nbconvert_exporter": "python",
   "pygments_lexer": "ipython3",
   "version": "3.10.10"
  },
  "orig_nbformat": 4,
  "vscode": {
   "interpreter": {
    "hash": "08043f130e0b83a31a66c96e4af52a6f8c933d34c863645182429fae07b328ce"
   }
  }
 },
 "nbformat": 4,
 "nbformat_minor": 2
}
