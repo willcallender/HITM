{
 "cells": [
  {
   "attachments": {},
   "cell_type": "markdown",
   "metadata": {},
   "source": [
    "Setup"
   ]
  },
  {
   "cell_type": "code",
   "execution_count": null,
   "metadata": {},
   "outputs": [],
   "source": [
    "import numpy as np\n",
    "import matplotlib.pyplot as plt\n",
    "from scipy.integrate import solve_ivp\n",
    "from scipy.optimize import minimize\n",
    "from scipy.fft import fft, ifft\n",
    "import pickle\n",
    "from concurrent.futures import ProcessPoolExecutor\n",
    "\n",
    "from kpz import *\n",
    "from inverse import *"
   ]
  },
  {
   "cell_type": "code",
   "execution_count": null,
   "metadata": {},
   "outputs": [],
   "source": [
    "x_bounds = np.array([100, 250])\n",
    "t_bounds = np.array([10, 80])\n",
    "# t_bounds = np.array([10, 13])"
   ]
  },
  {
   "attachments": {},
   "cell_type": "markdown",
   "metadata": {},
   "source": [
    "Load Daryn's data"
   ]
  },
  {
   "cell_type": "code",
   "execution_count": null,
   "metadata": {},
   "outputs": [],
   "source": [
    "# load real data\n",
    "filename = 'spread.pickle'\n",
    "with open(filename, 'rb') as f:\n",
    "    spread = pickle.load(f)"
   ]
  },
  {
   "attachments": {},
   "cell_type": "markdown",
   "metadata": {},
   "source": [
    "Run many simulations"
   ]
  },
  {
   "cell_type": "code",
   "execution_count": null,
   "metadata": {},
   "outputs": [],
   "source": [
    "allErr = np.zeros(x_bounds[1]-x_bounds[0])\n",
    "args = []\n",
    "for t1 in range(t_bounds[0], t_bounds[1]):\n",
    "    for t2 in range(t1+1, t_bounds[1]):\n",
    "        for t3 in range(t1+1, t_bounds[1]):\n",
    "            # catch the case when any of the times are the same\n",
    "            if t1 == t2 or t2 == t3 or t1 == t3:\n",
    "                continue\n",
    "            args.append((t1, t2, t3))\n",
    "\n",
    "a_opts = np.zeros((len(args), 3))\n",
    "\n",
    "with ProcessPoolExecutor() as executor:\n",
    "    futures = [executor.submit(runExperiment, spread, t1, t2, t3, x_bounds) for t1, t2, t3 in args]\n",
    "    results = [f.result() for f in futures]\n",
    "\n",
    "for i, r in enumerate(results):\n",
    "    firsth, lasth, verifyh, ha_result, y_bounds, final, err = r\n",
    "    allErr += np.abs(err)\n",
    "    a_opts[i] = ha_result.x\n",
    "            \n",
    "plt.clf()\n",
    "_ = plt.hist(allErr)\n",
    "plt.show()"
   ]
  },
  {
   "attachments": {},
   "cell_type": "markdown",
   "metadata": {},
   "source": [
    "margin of error for c v lamb"
   ]
  },
  {
   "attachments": {},
   "cell_type": "markdown",
   "metadata": {},
   "source": [
    "find distributions for c v lamb"
   ]
  },
  {
   "attachments": {},
   "cell_type": "markdown",
   "metadata": {},
   "source": [
    "and find power law (in paper about burning paper)"
   ]
  },
  {
   "attachments": {},
   "cell_type": "markdown",
   "metadata": {},
   "source": [
    "basically, investigating what's wrong with the KPZ equation and what it's failing to capture. if c v lamb don't capture much if any useful information about the spread, then the model isn't so good and i'll need a new equation"
   ]
  },
  {
   "attachments": {},
   "cell_type": "markdown",
   "metadata": {},
   "source": [
    "markov chain mc model for c v lamb"
   ]
  }
 ],
 "metadata": {
  "kernelspec": {
   "display_name": "Python 3",
   "language": "python",
   "name": "python3"
  },
  "language_info": {
   "codemirror_mode": {
    "name": "ipython",
    "version": 3
   },
   "file_extension": ".py",
   "mimetype": "text/x-python",
   "name": "python",
   "nbconvert_exporter": "python",
   "pygments_lexer": "ipython3",
   "version": "3.10.6"
  },
  "orig_nbformat": 4,
  "vscode": {
   "interpreter": {
    "hash": "08043f130e0b83a31a66c96e4af52a6f8c933d34c863645182429fae07b328ce"
   }
  }
 },
 "nbformat": 4,
 "nbformat_minor": 2
}
