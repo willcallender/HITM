{
 "cells": [
  {
   "attachments": {},
   "cell_type": "markdown",
   "metadata": {},
   "source": [
    "Setup"
   ]
  },
  {
   "cell_type": "code",
   "execution_count": null,
   "metadata": {},
   "outputs": [],
   "source": [
    "import numpy as np\n",
    "import matplotlib.pyplot as plt\n",
    "from scipy.integrate import solve_ivp\n",
    "from scipy.optimize import minimize\n",
    "from scipy.fft import fft, ifft\n",
    "import pickle"
   ]
  },
  {
   "cell_type": "code",
   "execution_count": null,
   "metadata": {},
   "outputs": [],
   "source": [
    "# numerical solver for the Kardar-Parisi-Zhang equation\n",
    "def kpz(h, t, c, dx, v, lamb, y=1, n=0):\n",
    "    Gamma = np.empty_like(h)\n",
    "    # second-order central\n",
    "    Gamma[1:-1] = h[2:] + h[:-2] - 2*h[1:-1]\n",
    "    # second order forward\n",
    "    Gamma[0] = h[2] + h[0] - 2*h[1]\n",
    "    # second order backward\n",
    "    Gamma[-1] = h[-1] + h[-3] - 2*h[-2]\n",
    "    \n",
    "    # nonlinear term\n",
    "    Psi = np.empty_like(h)\n",
    "    # inside terms\n",
    "    Psi[1:-1] = 1/(2*y+1)*(\n",
    "    (h[2:]-h[1:-1])**2 + \\\n",
    "    2*y*(h[2:]-h[1:-1])*(h[1:-1]-h[:-2]) + \\\n",
    "    (h[1:-1]-h[:-2])**2\n",
    "    )\n",
    "    # solution for boundary terms not explained in paper, check other papers ref [24-30]\n",
    "    Psi[0] = Psi[1]\n",
    "    Psi[-1] = Psi[-2]\n",
    "    \n",
    "    if n:\n",
    "        # gaussian noise\n",
    "        noise = np.random.normal(0, n, h.shape)\n",
    "    else:\n",
    "        noise = np.zeros_like(h)\n",
    "        \n",
    "    retval = c + 1/(dx**2) * (v*Gamma + Psi*lamb*0.5) + noise\n",
    "    return retval"
   ]
  },
  {
   "cell_type": "code",
   "execution_count": null,
   "metadata": {},
   "outputs": [],
   "source": [
    "def eq11(a, H, n, x, t):\n",
    "    # eq 11 in Campos 2013\n",
    "    # Gamma is del2 h\n",
    "    # Psi is (del h)^2\n",
    "    c, v, lamb = a\n",
    "    lamb /= 2\n",
    "    _, d2h, dh2 = H\n",
    "    # truncate the fourier components??"
   ]
  },
  {
   "cell_type": "code",
   "execution_count": null,
   "metadata": {},
   "outputs": [],
   "source": [
    "def err(a, x, t, h, ha):\n",
    "    # eq 13 in Campos 2013\n",
    "    h_a = ha(a, x, t, h[0])\n",
    "    return np.average((h - h_a)**2)"
   ]
  },
  {
   "attachments": {},
   "cell_type": "markdown",
   "metadata": {},
   "source": [
    "Toy problem"
   ]
  },
  {
   "cell_type": "code",
   "execution_count": null,
   "metadata": {},
   "outputs": [],
   "source": [
    "# define constants\n",
    "c = 0.02\n",
    "v = 0.1\n",
    "lamb = 0.3\n",
    "D = 4.5e-6"
   ]
  },
  {
   "cell_type": "code",
   "execution_count": null,
   "metadata": {},
   "outputs": [],
   "source": [
    "# define init conds\n",
    "timestamps = np.linspace(0, 10)\n",
    "x = np.linspace(0, 1)\n",
    "# y0 = -(np.linspace(-1, 1)**2) + 1 # creates inverted parabola\n",
    "# y0 = np.sin(2*np.pi*x) # creates sine wave\n",
    "y0 = np.sin(2*np.pi*x) + x # creates sine wave with linear slope"
   ]
  },
  {
   "cell_type": "code",
   "execution_count": null,
   "metadata": {},
   "outputs": [],
   "source": [
    "plt.plot(x, y0)"
   ]
  },
  {
   "cell_type": "code",
   "execution_count": null,
   "metadata": {},
   "outputs": [],
   "source": [
    "plt.clf()"
   ]
  },
  {
   "cell_type": "code",
   "execution_count": null,
   "metadata": {},
   "outputs": [],
   "source": [
    "# function callable by scipy\n",
    "def f(t, y):\n",
    "    return kpz(y, t, c, 1, v, lamb, n=0)"
   ]
  },
  {
   "cell_type": "code",
   "execution_count": null,
   "metadata": {},
   "outputs": [],
   "source": [
    "# solve over time\n",
    "h_result = solve_ivp(f, [0, 1], y0, vectorized=True)"
   ]
  },
  {
   "cell_type": "code",
   "execution_count": null,
   "metadata": {},
   "outputs": [],
   "source": [
    "front1 = h_result.y[:, 0]\n",
    "front2 = h_result.y[:, -1]"
   ]
  },
  {
   "cell_type": "code",
   "execution_count": null,
   "metadata": {},
   "outputs": [],
   "source": [
    "# init all the things\n",
    "a = np.array([1, 1, 1])\n",
    "x = np.linspace(0, 1)\n",
    "t = np.array([h_result.t[0], h_result.t[-1]])\n",
    "h = np.array([front1, front2])"
   ]
  },
  {
   "cell_type": "code",
   "execution_count": null,
   "metadata": {},
   "outputs": [],
   "source": [
    "# minimize the error\n",
    "def ha(a, x, t, h0):\n",
    "    def func(t, y):\n",
    "        return kpz(y, t, a[0], 1, a[1], a[2])\n",
    "    h_a = solve_ivp(func, t, h0, vectorized=True)\n",
    "    return np.array([h_a.y[:, 0], h_a.y[:, -1]])\n"
   ]
  },
  {
   "cell_type": "code",
   "execution_count": null,
   "metadata": {},
   "outputs": [],
   "source": [
    "ha_result = minimize(err, a, args=(x, t, h, ha))\n",
    "ha_result"
   ]
  },
  {
   "cell_type": "code",
   "execution_count": null,
   "metadata": {},
   "outputs": [],
   "source": [
    "# reconstructed kpz eqn\n",
    "a_opt = ha_result.x\n",
    "final = solve_ivp(lambda t, y: kpz(y, t, a_opt[0], 1, a_opt[1], a_opt[2]), [0, 1], y0, vectorized=True)"
   ]
  },
  {
   "cell_type": "code",
   "execution_count": null,
   "metadata": {},
   "outputs": [],
   "source": [
    "# compare original and reconstructed\n",
    "plt.plot(front2, 'b-', label='original')\n",
    "plt.plot(final.y[:, -1], 'r.', label='reconstructed')\n",
    "plt.legend()"
   ]
  },
  {
   "attachments": {},
   "cell_type": "markdown",
   "metadata": {},
   "source": [
    "Real data"
   ]
  },
  {
   "cell_type": "code",
   "execution_count": null,
   "metadata": {},
   "outputs": [],
   "source": [
    "# load real data\n",
    "filename = 'spread.pickle'\n",
    "with open(filename, 'rb') as f:\n",
    "    spread = pickle.load(f)"
   ]
  },
  {
   "attachments": {},
   "cell_type": "markdown",
   "metadata": {},
   "source": [
    "Cartesian form"
   ]
  },
  {
   "cell_type": "code",
   "execution_count": null,
   "metadata": {},
   "outputs": [],
   "source": [
    "t = np.array([10, 30])\n",
    "firstFireline = spread[t[0]]\n",
    "firstx = firstFireline[0]\n",
    "firsth = firstFireline[1]\n",
    "# sortIdx = np.argsort(firstx)\n",
    "# firstx = firstx[sortIdx]\n",
    "# firsth = firsth[sortIdx]\n",
    "plt.plot(firstx, firsth, label='first fireline')\n",
    "\n",
    "lastFireline = spread[t[1]]\n",
    "lastx = lastFireline[0]\n",
    "lasth = lastFireline[1]\n",
    "# sortIdx = np.argsort(lastx)\n",
    "# lastx = lastx[sortIdx]\n",
    "# lasth = lasth[sortIdx]\n",
    "plt.plot(lastx, lasth, label='last fireline')\n",
    "plt.legend()"
   ]
  },
  {
   "cell_type": "code",
   "execution_count": null,
   "metadata": {},
   "outputs": [],
   "source": [
    "# specify bounds of fireline\n",
    "x0 = 100\n",
    "xn = 250\n",
    "plt.plot(firstx[x0:xn], firsth[x0:xn], label='first fireline')\n",
    "plt.plot(lastx[x0:xn], lasth[x0:xn], label='last fireline')\n",
    "plt.legend()\n",
    "# truncate firelines\n",
    "firstx = firstx[x0:xn]\n",
    "firsth = firsth[x0:xn]\n",
    "lastx = lastx[x0:xn]\n",
    "lasth = lasth[x0:xn]"
   ]
  },
  {
   "cell_type": "code",
   "execution_count": null,
   "metadata": {},
   "outputs": [],
   "source": [
    "# smooth the data by course graining the fourier components as in Campos 2013\n",
    "n = 100\n",
    "first_fft = fft(firsth)\n",
    "last_fft = fft(lasth)\n",
    "first_fft[n:] = 0\n",
    "last_fft[n:] = 0\n",
    "firsth_smooth = np.real(ifft(first_fft))\n",
    "lasth_smooth = np.real(ifft(last_fft))\n",
    "firstErr = np.average((firsth - firsth_smooth)**2)\n",
    "lastErr = np.average((lasth - lasth_smooth)**2)\n",
    "firstErr, lastErr"
   ]
  },
  {
   "cell_type": "code",
   "execution_count": null,
   "metadata": {},
   "outputs": [],
   "source": [
    "a = np.array([1, 1, 1]) # c v lamb\n",
    "h = np.array([firsth_smooth, lasth_smooth])\n",
    "# normalize the data\n",
    "x = np.linspace(0, 1, len(firsth_smooth))\n",
    "y_bounds = np.array([h.min(), h.max()])\n",
    "h -= y_bounds[0]\n",
    "h /= y_bounds[1] - y_bounds[0]\n",
    "# t = np.array([0, 1], float)\n",
    "plt.clf()\n",
    "plt.plot(x, h[0], label='first fireline')\n",
    "plt.plot(x, h[1], label='last fireline')"
   ]
  },
  {
   "cell_type": "code",
   "execution_count": null,
   "metadata": {},
   "outputs": [],
   "source": [
    "ha_result = minimize(err, a, args=(x, t, h, ha))\n",
    "ha_result"
   ]
  },
  {
   "cell_type": "code",
   "execution_count": null,
   "metadata": {},
   "outputs": [],
   "source": [
    "a_opt = ha_result.x\n",
    "final = solve_ivp(lambda t, y: kpz(y, t, a_opt[0], 1, a_opt[1], a_opt[2]), t, h[0], vectorized=True)\n",
    "plt.clf()\n",
    "plt.plot(x, h[0], 'k-', label='first fireline')\n",
    "plt.plot(x, h[1], 'b-', label='final fireline')\n",
    "plt.plot(x, final.y[:, -1], 'r-', label='final reconstructed')\n",
    "plt.legend()"
   ]
  },
  {
   "cell_type": "code",
   "execution_count": null,
   "metadata": {},
   "outputs": [],
   "source": [
    "# verify the inverse method by predicting a later fireline\n",
    "t[1] = 50\n",
    "verifyFireline = spread[t[1]]\n",
    "verifyh = verifyFireline[1]\n",
    "verifyh = verifyh[x0:xn]\n",
    "verifyh_smooth = fft(verifyh)\n",
    "verifyh_smooth[n:] = 0\n",
    "verifyh_smooth = np.real(ifft(verifyh_smooth))\n",
    "verifyh_smooth -= y_bounds[0]\n",
    "verifyh_smooth /= y_bounds[1] - y_bounds[0]\n",
    "verify = solve_ivp(lambda t, y: kpz(y, t, a_opt[0], 1, a_opt[1], a_opt[2]), t, h[0], vectorized=True)\n",
    "plt.clf()\n",
    "plt.plot(x, h[0], label='first fireline')\n",
    "plt.plot(x, h[1], label='final fireline')\n",
    "plt.plot(x, verifyh_smooth, label='verification fireline')\n",
    "plt.plot(x, verify.y[:, -1], label='verification reconstructed')\n",
    "plt.legend()"
   ]
  }
 ],
 "metadata": {
  "kernelspec": {
   "display_name": "Python 3",
   "language": "python",
   "name": "python3"
  },
  "language_info": {
   "codemirror_mode": {
    "name": "ipython",
    "version": 3
   },
   "file_extension": ".py",
   "mimetype": "text/x-python",
   "name": "python",
   "nbconvert_exporter": "python",
   "pygments_lexer": "ipython3",
   "version": "3.10.10"
  },
  "orig_nbformat": 4,
  "vscode": {
   "interpreter": {
    "hash": "08043f130e0b83a31a66c96e4af52a6f8c933d34c863645182429fae07b328ce"
   }
  }
 },
 "nbformat": 4,
 "nbformat_minor": 2
}
