{
 "cells": [
  {
   "attachments": {},
   "cell_type": "markdown",
   "metadata": {},
   "source": [
    "Setup"
   ]
  },
  {
   "cell_type": "code",
   "execution_count": 1,
   "metadata": {},
   "outputs": [],
   "source": [
    "import numpy as np\n",
    "import matplotlib.pyplot as plt\n",
    "from scipy.integrate import solve_ivp\n",
    "from scipy.optimize import minimize\n",
    "from scipy.fft import fft, ifft\n",
    "import pickle\n",
    "\n",
    "from kpz import *\n",
    "from inverse import *"
   ]
  },
  {
   "cell_type": "code",
   "execution_count": 2,
   "metadata": {},
   "outputs": [],
   "source": [
    "x_bounds = np.array([100, 250])\n",
    "t_bounds = np.array([10, 42])\n",
    "# t_bounds = np.array([10, 13])"
   ]
  },
  {
   "attachments": {},
   "cell_type": "markdown",
   "metadata": {},
   "source": [
    "Load data"
   ]
  },
  {
   "cell_type": "code",
   "execution_count": 3,
   "metadata": {},
   "outputs": [],
   "source": [
    "filename = 'spread.pkl'\n",
    "with open(filename, 'rb') as f:\n",
    "    spread = pickle.load(f)\n",
    "spread = np.array(spread)\n",
    "y_bounds = np.array([0, spread.max()])"
   ]
  },
  {
   "attachments": {},
   "cell_type": "markdown",
   "metadata": {},
   "source": [
    "Run single simulation"
   ]
  },
  {
   "cell_type": "code",
   "execution_count": 4,
   "metadata": {},
   "outputs": [
    {
     "data": {
      "text/plain": [
       "  message: Desired error not necessarily achieved due to precision loss.\n",
       "  success: False\n",
       "   status: 2\n",
       "      fun: 1404.8822872203634\n",
       "        x: [ 1.000e+00  1.000e+00  1.000e+00]\n",
       "      nit: 1\n",
       "      jac: [-2.883e+09 -2.090e+09 -3.277e+09]\n",
       " hess_inv: [[ 1.088e+00  1.013e-01  1.365e-01]\n",
       "            [ 1.013e-01  4.523e-01 -4.885e-01]\n",
       "            [ 1.365e-01 -4.885e-01  5.843e-01]]\n",
       "     nfev: 81\n",
       "     njev: 19"
      ]
     },
     "execution_count": 4,
     "metadata": {},
     "output_type": "execute_result"
    }
   ],
   "source": [
    "h0, h1, verifyh, ha_result, y_bounds, finals, errs = runExperiment(spread, t_bounds[0], t_bounds[1], np.array([50], int), x_bounds, y_bounds)\n",
    "ha_result"
   ]
  },
  {
   "cell_type": "code",
   "execution_count": 5,
   "metadata": {},
   "outputs": [
    {
     "data": {
      "text/plain": [
       "<matplotlib.legend.Legend at 0x25669e17490>"
      ]
     },
     "execution_count": 5,
     "metadata": {},
     "output_type": "execute_result"
    },
    {
     "data": {
      "image/png": "[encoded data removed]",
      "text/plain": [
       "<Figure size 640x480 with 1 Axes>"
      ]
     },
     "metadata": {},
     "output_type": "display_data"
    }
   ],
   "source": [
    "x = np.arange(len(h0)).astype(float)\n",
    "plt.plot(x, h0, label='h0')\n",
    "plt.plot(x, h1, '--', label='h1')\n",
    "# plt.plot(x, verifyh[0], label='original')\n",
    "plt.plot(x, finals[0].y[:, -1], label='reconstructed')\n",
    "# plt.ylim(0, 1)\n",
    "plt.legend()"
   ]
  },
  {
   "cell_type": "code",
   "execution_count": 6,
   "metadata": {},
   "outputs": [
    {
     "data": {
      "text/plain": [
       "array([494.92977925, 485.85454888, 473.61346518, 465.8871727 ,\n",
       "       455.71708913, 450.16456825, 442.79495564, 436.92110703,\n",
       "       428.20937554, 421.87821952, 409.23265721, 398.16278016,\n",
       "       390.95333646, 382.9979414 , 375.96840715, 367.86372055,\n",
       "       360.67459645, 353.48967863, 345.54917462, 338.84337867,\n",
       "       329.99727667, 322.44131592, 315.31833882, 308.30423381,\n",
       "       301.61194316, 293.94547138, 286.42400945, 278.9240428 ,\n",
       "       271.75170953, 264.02702277, 256.5813984 , 249.00541998,\n",
       "       242.04462106, 234.35751003, 227.28849825, 219.31521187,\n",
       "       211.35106436, 205.16826779, 197.4657167 , 190.01775804,\n",
       "       182.89099525, 174.47478292, 167.13682743, 160.97566961,\n",
       "       155.61739356, 148.43738296, 142.53490624, 136.68656505,\n",
       "       130.96303711, 124.84164948, 119.33280202, 112.74911198,\n",
       "       106.84220575, 100.92811079,  94.44951724,  88.60887394,\n",
       "        83.35779958,  78.3921424 ,  70.93868704,  64.88535337,\n",
       "        64.00077596,  63.60082894,  63.68198572,  63.35715639,\n",
       "        63.42433096,  63.00333322,  62.60474581,  63.00686271,\n",
       "        62.88871753,  62.16920234,  61.53523988,  61.59793492,\n",
       "        62.05380439,  62.45404667,  62.41245617,  62.59046198,\n",
       "        62.52168581,  62.52010089,  63.10482814,  63.19971456,\n",
       "        63.01197013,  62.50202708,  61.55250745,  60.38206122,\n",
       "        60.85441321,  61.18998313,  61.18151248,  61.14084184,\n",
       "        60.41900518,  60.88440828,  61.17753158,  61.10982943,\n",
       "        60.43369809,  61.26067558,  61.23944896,  61.55756999,\n",
       "        61.63929756,  61.788861  ,  61.90524592,  61.71212149,\n",
       "        62.02448332,  61.70799309,  62.39216128,  62.76084613,\n",
       "        62.87947141,  63.16104232,  63.13410195,  63.14152285,\n",
       "        63.00266775,  63.51287493,  63.944006  ,  64.49586299,\n",
       "        64.2151557 ,  63.91560608,  64.12187334,  63.87029701,\n",
       "        63.68991183,  64.68351114,  65.94716436,  68.0531087 ,\n",
       "        70.19931392,  71.90683581,  72.62792115,  73.63281972,\n",
       "        74.99657322,  76.19593142,  77.40054447,  78.10072256,\n",
       "        80.72275832,  81.56073102,  83.70807358,  85.52067694,\n",
       "        88.52989062,  89.93056402,  91.47743671,  92.53514997,\n",
       "        93.24528266,  93.65574611,  93.51075094,  93.93238673,\n",
       "        95.80624847,  97.70050852,  99.41187578, 100.31431157,\n",
       "       101.51307004, 102.705005  , 102.36763336, 101.8921563 ,\n",
       "       101.95198925, 101.0036451 ])"
      ]
     },
     "execution_count": 6,
     "metadata": {},
     "output_type": "execute_result"
    }
   ],
   "source": [
    "finals[0].y[:, -1]"
   ]
  },
  {
   "attachments": {},
   "cell_type": "markdown",
   "metadata": {},
   "source": [
    "basically, investigating what's wrong with the KPZ equation and what it's failing to capture. if c v lamb don't capture much if any useful information about the spread, then the model isn't so good and i'll need a new equation"
   ]
  },
  {
   "attachments": {},
   "cell_type": "markdown",
   "metadata": {},
   "source": [
    "markov chain mc model for c v lamb"
   ]
  }
 ],
 "metadata": {
  "kernelspec": {
   "display_name": "Python 3",
   "language": "python",
   "name": "python3"
  },
  "language_info": {
   "codemirror_mode": {
    "name": "ipython",
    "version": 3
   },
   "file_extension": ".py",
   "mimetype": "text/x-python",
   "name": "python",
   "nbconvert_exporter": "python",
   "pygments_lexer": "ipython3",
   "version": "3.11.4"
  },
  "orig_nbformat": 4,
  "vscode": {
   "interpreter": {
    "hash": "08043f130e0b83a31a66c96e4af52a6f8c933d34c863645182429fae07b328ce"
   }
  }
 },
 "nbformat": 4,
 "nbformat_minor": 2
}
