{
 "cells": [
  {
   "attachments": {},
   "cell_type": "markdown",
   "metadata": {},
   "source": [
    "Setup"
   ]
  },
  {
   "cell_type": "code",
   "execution_count": null,
   "metadata": {},
   "outputs": [],
   "source": [
    "import numpy as np\n",
    "import matplotlib.pyplot as plt\n",
    "from scipy.integrate import solve_ivp\n",
    "from scipy.optimize import minimize\n",
    "from scipy.fft import fft, ifft\n",
    "import pickle\n",
    "\n",
    "from kpz import *\n",
    "from inverse import *"
   ]
  },
  {
   "cell_type": "code",
   "execution_count": null,
   "metadata": {},
   "outputs": [],
   "source": [
    "x_bounds = np.array([100, 250])\n",
    "t_bounds = np.array([10, 42])\n",
    "# t_bounds = np.array([10, 13])"
   ]
  },
  {
   "attachments": {},
   "cell_type": "markdown",
   "metadata": {},
   "source": [
    "Load data"
   ]
  },
  {
   "cell_type": "code",
   "execution_count": null,
   "metadata": {},
   "outputs": [],
   "source": [
    "filename = 'spread.pkl'\n",
    "with open(filename, 'rb') as f:\n",
    "    spread = pickle.load(f)\n",
    "spread = np.array(spread)\n",
    "y_bounds = np.array([0, spread.max()])"
   ]
  },
  {
   "attachments": {},
   "cell_type": "markdown",
   "metadata": {},
   "source": [
    "Run single simulation"
   ]
  },
  {
   "cell_type": "code",
   "execution_count": null,
   "metadata": {},
   "outputs": [],
   "source": [
    "h0, h1, verifyh, ha_result, y_bounds, finals, errs = runExperiment(spread, t_bounds[0], t_bounds[1], np.array([50], int), x_bounds, y_bounds)\n",
    "ha_result"
   ]
  },
  {
   "cell_type": "code",
   "execution_count": null,
   "metadata": {},
   "outputs": [],
   "source": [
    "x = np.arange(len(h0)).astype(float)\n",
    "plt.plot(x, h0, label='h0')\n",
    "plt.plot(x, h1, label='h1')\n",
    "plt.plot(x, verifyh[0], label='original')\n",
    "plt.plot(x, finals[0].y[:, -1], label='reconstructed')\n",
    "plt.ylim(0, 1)\n",
    "plt.legend()"
   ]
  },
  {
   "attachments": {},
   "cell_type": "markdown",
   "metadata": {},
   "source": [
    "basically, investigating what's wrong with the KPZ equation and what it's failing to capture. if c v lamb don't capture much if any useful information about the spread, then the model isn't so good and i'll need a new equation"
   ]
  },
  {
   "attachments": {},
   "cell_type": "markdown",
   "metadata": {},
   "source": [
    "markov chain mc model for c v lamb"
   ]
  }
 ],
 "metadata": {
  "kernelspec": {
   "display_name": "Python 3",
   "language": "python",
   "name": "python3"
  },
  "language_info": {
   "codemirror_mode": {
    "name": "ipython",
    "version": 3
   },
   "file_extension": ".py",
   "mimetype": "text/x-python",
   "name": "python",
   "nbconvert_exporter": "python",
   "pygments_lexer": "ipython3",
   "version": "3.11.4"
  },
  "orig_nbformat": 4,
  "vscode": {
   "interpreter": {
    "hash": "08043f130e0b83a31a66c96e4af52a6f8c933d34c863645182429fae07b328ce"
   }
  }
 },
 "nbformat": 4,
 "nbformat_minor": 2
}
