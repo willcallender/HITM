{
 "cells": [
  {
   "cell_type": "code",
   "execution_count": 16,
   "metadata": {},
   "outputs": [],
   "source": [
    "import pickle\n",
    "import numpy as np\n",
    "from os import listdir\n",
    "import matplotlib.pyplot as plt\n",
    "from scipy import stats\n",
    "import math"
   ]
  },
  {
   "cell_type": "code",
   "execution_count": 17,
   "metadata": {},
   "outputs": [],
   "source": [
    "# Load the data from results*.pkl\n",
    "batchedResults = []\n",
    "for filename in listdir('results'):\n",
    "    if filename.startswith('results'):\n",
    "        with open('results/' + filename, 'rb') as f:\n",
    "            batchedResults.append(pickle.load(f))"
   ]
  },
  {
   "cell_type": "code",
   "execution_count": 18,
   "metadata": {},
   "outputs": [],
   "source": [
    "# Extract the results\n",
    "# ha_results = []\n",
    "a_opts = []\n",
    "errs = []\n",
    "for batch in batchedResults:\n",
    "    for result in batch:\n",
    "        _, _, _, ha_result, _, _, err = result\n",
    "        # ha_results.append(ha_result)\n",
    "        a_opts.append(np.array(ha_result.x))\n",
    "        errs.append(np.array(err))"
   ]
  },
  {
   "cell_type": "code",
   "execution_count": 19,
   "metadata": {},
   "outputs": [
    {
     "data": {
      "text/plain": [
       "((2368, 3), (109222, 150))"
      ]
     },
     "execution_count": 19,
     "metadata": {},
     "output_type": "execute_result"
    }
   ],
   "source": [
    "# Prepare the data for plotting\n",
    "a_opts = np.array(a_opts)\n",
    "errs = np.concatenate(errs)\n",
    "a_opts.shape, errs.shape"
   ]
  },
  {
   "cell_type": "code",
   "execution_count": 20,
   "metadata": {},
   "outputs": [
    {
     "data": {
      "text/plain": [
       "array([ 1.01123753e-02,  3.89962935e-02, -3.97209241e+01])"
      ]
     },
     "execution_count": 20,
     "metadata": {},
     "output_type": "execute_result"
    }
   ],
   "source": [
    "a_opts[10]"
   ]
  },
  {
   "cell_type": "code",
   "execution_count": 21,
   "metadata": {},
   "outputs": [
    {
     "data": {
      "text/plain": [
       "0.04397864991804681"
      ]
     },
     "execution_count": 21,
     "metadata": {},
     "output_type": "execute_result"
    }
   ],
   "source": [
    "# MSE\n",
    "mse = np.mean(errs**2)\n",
    "mse"
   ]
  },
  {
   "cell_type": "code",
   "execution_count": 24,
   "metadata": {},
   "outputs": [
    {
     "data": {
      "text/plain": [
       "array([3.01979349e-04, 1.80376250e-01, 5.41221825e-01])"
      ]
     },
     "execution_count": 24,
     "metadata": {},
     "output_type": "execute_result"
    }
   ],
   "source": [
    "# Calculate stats for each parameter\n",
    "# confidence level\n",
    "cl = 0.95\n",
    "\n",
    "n = a_opts.shape[0]\n",
    "c, v, lamb = a_opts[:, 0], a_opts[:, 1], a_opts[:, 2]\n",
    "t = stats.t.ppf((1 + cl) / 2, n - 1)\n",
    "cstd = stats.tstd(c)\n",
    "vstd = stats.tstd(v)\n",
    "lstd = stats.tstd(lamb)\n",
    "std = np.array([cstd, vstd, lstd])\n",
    "moe = t * std / math.sqrt(n)\n",
    "moe"
   ]
  },
  {
   "cell_type": "code",
   "execution_count": 23,
   "metadata": {},
   "outputs": [
    {
     "data": {
      "text/plain": [
       "array([ 0.00845944,  1.52615056, -1.52910777])"
      ]
     },
     "execution_count": 23,
     "metadata": {},
     "output_type": "execute_result"
    }
   ],
   "source": [
    "np.mean(a_opts, axis=0)"
   ]
  }
 ],
 "metadata": {
  "kernelspec": {
   "display_name": "Python 3",
   "language": "python",
   "name": "python3"
  },
  "language_info": {
   "codemirror_mode": {
    "name": "ipython",
    "version": 3
   },
   "file_extension": ".py",
   "mimetype": "text/x-python",
   "name": "python",
   "nbconvert_exporter": "python",
   "pygments_lexer": "ipython3",
   "version": "3.10.11"
  },
  "orig_nbformat": 4
 },
 "nbformat": 4,
 "nbformat_minor": 2
}
