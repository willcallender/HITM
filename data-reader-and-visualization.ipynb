{
 "cells": [
  {
   "cell_type": "markdown",
   "id": "e3c331c5",
   "metadata": {
    "id": "uPojRlNQPJub",
    "papermill": {
     "duration": 0.012889,
     "end_time": "2022-01-14T15:54:09.171097",
     "exception": false,
     "start_time": "2022-01-14T15:54:09.158208",
     "status": "completed"
    },
    "tags": []
   },
   "source": [
    "# Imports"
   ]
  },
  {
   "cell_type": "markdown",
   "id": "eb21013a",
   "metadata": {
    "id": "oOtnY2y8Om-1",
    "papermill": {
     "duration": 0.011321,
     "end_time": "2022-01-14T15:54:09.195914",
     "exception": false,
     "start_time": "2022-01-14T15:54:09.184593",
     "status": "completed"
    },
    "tags": []
   },
   "source": [
    "Import the required libraries."
   ]
  },
  {
   "cell_type": "code",
   "execution_count": null,
   "id": "bf303082",
   "metadata": {
    "execution": {
     "iopub.execute_input": "2022-01-14T15:54:09.226916Z",
     "iopub.status.busy": "2022-01-14T15:54:09.225215Z",
     "iopub.status.idle": "2022-01-14T15:54:13.956745Z",
     "shell.execute_reply": "2022-01-14T15:54:13.955972Z",
     "shell.execute_reply.started": "2021-12-04T23:21:56.112602Z"
    },
    "id": "1Mf4kbp8yOxd",
    "papermill": {
     "duration": 4.747349,
     "end_time": "2022-01-14T15:54:13.956904",
     "exception": false,
     "start_time": "2022-01-14T15:54:09.209555",
     "status": "completed"
    },
    "tags": []
   },
   "outputs": [],
   "source": [
    "import re\n",
    "from typing import Dict, List, Optional, Text, Tuple\n",
    "import matplotlib.pyplot as plt\n",
    "from matplotlib import colors\n",
    "\n",
    "import tensorflow as tf"
   ]
  },
  {
   "cell_type": "markdown",
   "id": "42295a62",
   "metadata": {
    "id": "aVb2hhOcgVwU",
    "papermill": {
     "duration": 0.011927,
     "end_time": "2022-01-14T15:54:13.980589",
     "exception": false,
     "start_time": "2022-01-14T15:54:13.968662",
     "status": "completed"
    },
    "tags": []
   },
   "source": [
    "# Load the dataset"
   ]
  },
  {
   "cell_type": "markdown",
   "id": "e55d26b8",
   "metadata": {
    "id": "awWJ00JeOyuO",
    "papermill": {
     "duration": 0.011933,
     "end_time": "2022-01-14T15:54:14.004854",
     "exception": false,
     "start_time": "2022-01-14T15:54:13.992921",
     "status": "completed"
    },
    "tags": []
   },
   "source": [
    "Enter the Unix glob file pattern of the data files.\n",
    "\n",
    "Here we load the training data. All the data are stored in TensorFlow Record files.\n",
    "Replace 'train' with 'eval' or 'test' to load the evaluation or testing data, respectively."
   ]
  },
  {
   "cell_type": "code",
   "execution_count": null,
   "id": "e4624676",
   "metadata": {
    "execution": {
     "iopub.execute_input": "2022-01-14T15:54:14.034412Z",
     "iopub.status.busy": "2022-01-14T15:54:14.033733Z",
     "iopub.status.idle": "2022-01-14T15:54:14.037021Z",
     "shell.execute_reply": "2022-01-14T15:54:14.037595Z",
     "shell.execute_reply.started": "2021-12-04T23:21:57.461917Z"
    },
    "id": "fhHMUbBoOg0k",
    "papermill": {
     "duration": 0.020484,
     "end_time": "2022-01-14T15:54:14.037760",
     "exception": false,
     "start_time": "2022-01-14T15:54:14.017276",
     "status": "completed"
    },
    "tags": []
   },
   "outputs": [],
   "source": [
    "file_pattern = './archive/next_day_wildfire_spread_train*'"
   ]
  },
  {
   "cell_type": "markdown",
   "id": "2da94602",
   "metadata": {
    "id": "OabUJMGqO9NE",
    "papermill": {
     "duration": 0.011818,
     "end_time": "2022-01-14T15:54:14.061586",
     "exception": false,
     "start_time": "2022-01-14T15:54:14.049768",
     "status": "completed"
    },
    "tags": []
   },
   "source": [
    "Run the following three cells to define the required library functions for loading the data.\n",
    "\n",
    "The first cell defines the name of the variables in the input files and the corrresponding data statistics. The statistics can be used for preprocessing the data. "
   ]
  },
  {
   "cell_type": "code",
   "execution_count": null,
   "id": "e649608d",
   "metadata": {
    "execution": {
     "iopub.execute_input": "2022-01-14T15:54:14.091026Z",
     "iopub.status.busy": "2022-01-14T15:54:14.090382Z",
     "iopub.status.idle": "2022-01-14T15:54:14.098897Z",
     "shell.execute_reply": "2022-01-14T15:54:14.099413Z",
     "shell.execute_reply.started": "2021-12-04T23:21:58.421551Z"
    },
    "id": "GTTV3tjjCcdn",
    "papermill": {
     "duration": 0.025866,
     "end_time": "2022-01-14T15:54:14.099590",
     "exception": false,
     "start_time": "2022-01-14T15:54:14.073724",
     "status": "completed"
    },
    "tags": []
   },
   "outputs": [],
   "source": [
    "\"\"\"Constants for the data reader.\"\"\"\n",
    "\n",
    "INPUT_FEATURES = ['elevation', 'th', 'vs',  'tmmn', 'tmmx', 'sph', \n",
    "                  'pr', 'pdsi', 'NDVI', 'population', 'erc', 'PrevFireMask']\n",
    "\n",
    "OUTPUT_FEATURES = ['FireMask', ]\n",
    "\n",
    "# Data statistics \n",
    "# For each variable, the statistics are ordered in the form:\n",
    "# (min_clip, max_clip, mean, standard deviation)\n",
    "DATA_STATS = {\n",
    "    # Elevation in m.\n",
    "    # 0.1 percentile, 99.9 percentile\n",
    "    'elevation': (0.0, 3141.0, 657.3003, 649.0147),\n",
    "    # Pressure\n",
    "    # 0.1 percentile, 99.9 percentile\n",
    "    'pdsi': (-6.12974870967865, 7.876040384292651, -0.0052714925, 2.6823447),\n",
    "    'NDVI': (-9821.0, 9996.0, 5157.625, 2466.6677),  # min, max\n",
    "    # Precipitation in mm.\n",
    "    # Negative values do not make sense, so min is set to 0.\n",
    "    # 0., 99.9 percentile\n",
    "    'pr': (0.0, 44.53038024902344, 1.7398051, 4.482833),\n",
    "    # Specific humidity.\n",
    "    # Negative values do not make sense, so min is set to 0.\n",
    "    # The range of specific humidity is up to 100% so max is 1.\n",
    "    'sph': (0., 1., 0.0071658953, 0.0042835088),\n",
    "    # Wind direction in degrees clockwise from north.\n",
    "    # Thus min set to 0 and max set to 360.\n",
    "    'th': (0., 360.0, 190.32976, 72.59854),\n",
    "    # Min/max temperature in Kelvin.\n",
    "    # -20 degree C, 99.9 percentile\n",
    "    'tmmn': (253.15, 298.94891357421875, 281.08768, 8.982386),\n",
    "    # -20 degree C, 99.9 percentile\n",
    "    'tmmx': (253.15, 315.09228515625, 295.17383, 9.815496),\n",
    "    # Wind speed in m/s.\n",
    "    # Negative values do not make sense, given there is a wind direction.\n",
    "    # 0., 99.9 percentile\n",
    "    'vs': (0.0, 10.024310074806237, 3.8500874, 1.4109988),\n",
    "    # NFDRS fire danger index energy release component expressed in BTU's per\n",
    "    # square foot.\n",
    "    # Negative values do not make sense. Thus min set to zero.\n",
    "    # 0., 99.9 percentile\n",
    "    'erc': (0.0, 106.24891662597656, 37.326267, 20.846027),\n",
    "    # Population density\n",
    "    # min, 99.9 percentile\n",
    "    'population': (0., 2534.06298828125, 25.531384, 154.72331),\n",
    "    # We don't want to normalize the FireMasks.\n",
    "    # 1 indicates fire, 0 no fire, -1 unlabeled data\n",
    "    'PrevFireMask': (-1., 1., 0., 1.),\n",
    "    'FireMask': (-1., 1., 0., 1.)\n",
    "}"
   ]
  },
  {
   "cell_type": "markdown",
   "id": "cd3eb4bb",
   "metadata": {
    "papermill": {
     "duration": 0.012419,
     "end_time": "2022-01-14T15:54:14.124766",
     "exception": false,
     "start_time": "2022-01-14T15:54:14.112347",
     "status": "completed"
    },
    "tags": []
   },
   "source": [
    "The following cell defines cropping functions for extracting regions of the desired size from the input data."
   ]
  },
  {
   "cell_type": "code",
   "execution_count": null,
   "id": "8a854862",
   "metadata": {
    "execution": {
     "iopub.execute_input": "2022-01-14T15:54:14.151641Z",
     "iopub.status.busy": "2022-01-14T15:54:14.150963Z",
     "iopub.status.idle": "2022-01-14T15:54:14.158157Z",
     "shell.execute_reply": "2022-01-14T15:54:14.158671Z",
     "shell.execute_reply.started": "2021-12-04T23:21:58.897995Z"
    },
    "id": "QqGYv21hD-2q",
    "papermill": {
     "duration": 0.022149,
     "end_time": "2022-01-14T15:54:14.158852",
     "exception": false,
     "start_time": "2022-01-14T15:54:14.136703",
     "status": "completed"
    },
    "tags": []
   },
   "outputs": [],
   "source": [
    "\"\"\"Library of common functions used in deep learning neural networks.\n",
    "\"\"\"\n",
    "def random_crop_input_and_output_images(\n",
    "    input_img: tf.Tensor,\n",
    "    output_img: tf.Tensor,\n",
    "    sample_size: int,\n",
    "    num_in_channels: int,\n",
    "    num_out_channels: int,\n",
    ") -> Tuple[tf.Tensor, tf.Tensor]:\n",
    "  \"\"\"Randomly axis-align crop input and output image tensors.\n",
    "\n",
    "  Args:\n",
    "    input_img: tensor with dimensions HWC.\n",
    "    output_img: tensor with dimensions HWC.\n",
    "    sample_size: side length (square) to crop to.\n",
    "    num_in_channels: number of channels in input_img.\n",
    "    num_out_channels: number of channels in output_img.\n",
    "  Returns:\n",
    "    input_img: tensor with dimensions HWC.\n",
    "    output_img: tensor with dimensions HWC.\n",
    "  \"\"\"\n",
    "  combined = tf.concat([input_img, output_img], axis=2)\n",
    "  combined = tf.image.random_crop(\n",
    "      combined,\n",
    "      [sample_size, sample_size, num_in_channels + num_out_channels])\n",
    "  input_img = combined[:, :, 0:num_in_channels]\n",
    "  output_img = combined[:, :, -num_out_channels:]\n",
    "  return input_img, output_img\n",
    "\n",
    "\n",
    "def center_crop_input_and_output_images(\n",
    "    input_img: tf.Tensor,\n",
    "    output_img: tf.Tensor,\n",
    "    sample_size: int,\n",
    ") -> Tuple[tf.Tensor, tf.Tensor]:\n",
    "  \"\"\"Center crops input and output image tensors.\n",
    "\n",
    "  Args:\n",
    "    input_img: tensor with dimensions HWC.\n",
    "    output_img: tensor with dimensions HWC.\n",
    "    sample_size: side length (square) to crop to.\n",
    "  Returns:\n",
    "    input_img: tensor with dimensions HWC.\n",
    "    output_img: tensor with dimensions HWC.\n",
    "  \"\"\"\n",
    "  central_fraction = sample_size / input_img.shape[0]\n",
    "  input_img = tf.image.central_crop(input_img, central_fraction)\n",
    "  output_img = tf.image.central_crop(output_img, central_fraction)\n",
    "  return input_img, output_img"
   ]
  },
  {
   "cell_type": "markdown",
   "id": "565e6bdc",
   "metadata": {
    "papermill": {
     "duration": 0.011425,
     "end_time": "2022-01-14T15:54:14.182301",
     "exception": false,
     "start_time": "2022-01-14T15:54:14.170876",
     "status": "completed"
    },
    "tags": []
   },
   "source": [
    "The following cell provides code for parsing the contents of the TensorFlow Record files. In addition to loading the data, it also offers functions for various preprocessing operations, such as clipping, rescaling, or normalizing the data.  "
   ]
  },
  {
   "cell_type": "code",
   "execution_count": null,
   "id": "01fce28f",
   "metadata": {
    "execution": {
     "iopub.execute_input": "2022-01-14T15:54:14.208857Z",
     "iopub.status.busy": "2022-01-14T15:54:14.208210Z",
     "iopub.status.idle": "2022-01-14T15:54:14.230728Z",
     "shell.execute_reply": "2022-01-14T15:54:14.231261Z",
     "shell.execute_reply.started": "2021-12-04T23:21:59.359778Z"
    },
    "id": "VBvI9FuGEC09",
    "papermill": {
     "duration": 0.037482,
     "end_time": "2022-01-14T15:54:14.231436",
     "exception": false,
     "start_time": "2022-01-14T15:54:14.193954",
     "status": "completed"
    },
    "tags": []
   },
   "outputs": [],
   "source": [
    "\"\"\"Dataset reader for Earth Engine data.\"\"\"\n",
    "\n",
    "def _get_base_key(key: Text) -> Text:\n",
    "  \"\"\"Extracts the base key from the provided key.\n",
    "\n",
    "  Earth Engine exports TFRecords containing each data variable with its\n",
    "  corresponding variable name. In the case of time sequences, the name of the\n",
    "  data variable is of the form 'variable_1', 'variable_2', ..., 'variable_n',\n",
    "  where 'variable' is the name of the variable, and n the number of elements\n",
    "  in the time sequence. Extracting the base key ensures that each step of the\n",
    "  time sequence goes through the same normalization steps.\n",
    "  The base key obeys the following naming pattern: '([a-zA-Z]+)'\n",
    "  For instance, for an input key 'variable_1', this function returns 'variable'.\n",
    "  For an input key 'variable', this function simply returns 'variable'.\n",
    "\n",
    "  Args:\n",
    "    key: Input key.\n",
    "\n",
    "  Returns:\n",
    "    The corresponding base key.\n",
    "\n",
    "  Raises:\n",
    "    ValueError when `key` does not match the expected pattern.\n",
    "  \"\"\"\n",
    "  match = re.match(r'([a-zA-Z]+)', key)\n",
    "  if match:\n",
    "    return match.group(1)\n",
    "  raise ValueError(\n",
    "      'The provided key does not match the expected pattern: {}'.format(key))\n",
    "\n",
    "\n",
    "def _clip_and_rescale(inputs: tf.Tensor, key: Text) -> tf.Tensor:\n",
    "  \"\"\"Clips and rescales inputs with the stats corresponding to `key`.\n",
    "\n",
    "  Args:\n",
    "    inputs: Inputs to clip and rescale.\n",
    "    key: Key describing the inputs.\n",
    "\n",
    "  Returns:\n",
    "    Clipped and rescaled input.\n",
    "\n",
    "  Raises:\n",
    "    ValueError if there are no data statistics available for `key`.\n",
    "  \"\"\"\n",
    "  base_key = _get_base_key(key)\n",
    "  if base_key not in DATA_STATS:\n",
    "    raise ValueError(\n",
    "        'No data statistics available for the requested key: {}.'.format(key))\n",
    "  min_val, max_val, _, _ = DATA_STATS[base_key]\n",
    "  inputs = tf.clip_by_value(inputs, min_val, max_val)\n",
    "  return tf.math.divide_no_nan((inputs - min_val), (max_val - min_val))\n",
    "\n",
    "\n",
    "def _clip_and_normalize(inputs: tf.Tensor, key: Text) -> tf.Tensor:\n",
    "  \"\"\"Clips and normalizes inputs with the stats corresponding to `key`.\n",
    "\n",
    "  Args:\n",
    "    inputs: Inputs to clip and normalize.\n",
    "    key: Key describing the inputs.\n",
    "\n",
    "  Returns:\n",
    "    Clipped and normalized input.\n",
    "\n",
    "  Raises:\n",
    "    ValueError if there are no data statistics available for `key`.\n",
    "  \"\"\"\n",
    "  base_key = _get_base_key(key)\n",
    "  if base_key not in DATA_STATS:\n",
    "    raise ValueError(\n",
    "        'No data statistics available for the requested key: {}.'.format(key))\n",
    "  min_val, max_val, mean, std = DATA_STATS[base_key]\n",
    "  inputs = tf.clip_by_value(inputs, min_val, max_val)\n",
    "  inputs = inputs - mean\n",
    "  return tf.math.divide_no_nan(inputs, std)\n",
    "\n",
    "def _get_features_dict(\n",
    "    sample_size: int,\n",
    "    features: List[Text],\n",
    ") -> Dict[Text, tf.io.FixedLenFeature]:\n",
    "  \"\"\"Creates a features dictionary for TensorFlow IO.\n",
    "\n",
    "  Args:\n",
    "    sample_size: Size of the input tiles (square).\n",
    "    features: List of feature names.\n",
    "\n",
    "  Returns:\n",
    "    A features dictionary for TensorFlow IO.\n",
    "  \"\"\"\n",
    "  sample_shape = [sample_size, sample_size]\n",
    "  features = set(features)\n",
    "  columns = [\n",
    "      tf.io.FixedLenFeature(shape=sample_shape, dtype=tf.float32)\n",
    "      for _ in features\n",
    "  ]\n",
    "  return dict(zip(features, columns))\n",
    "\n",
    "\n",
    "def _parse_fn(\n",
    "    example_proto: tf.train.Example, data_size: int, sample_size: int,\n",
    "    num_in_channels: int, clip_and_normalize: bool,\n",
    "    clip_and_rescale: bool, random_crop: bool, center_crop: bool,\n",
    ") -> Tuple[tf.Tensor, tf.Tensor]:\n",
    "  \"\"\"Reads a serialized example.\n",
    "\n",
    "  Args:\n",
    "    example_proto: A TensorFlow example protobuf.\n",
    "    data_size: Size of tiles (square) as read from input files.\n",
    "    sample_size: Size the tiles (square) when input into the model.\n",
    "    num_in_channels: Number of input channels.\n",
    "    clip_and_normalize: True if the data should be clipped and normalized.\n",
    "    clip_and_rescale: True if the data should be clipped and rescaled.\n",
    "    random_crop: True if the data should be randomly cropped.\n",
    "    center_crop: True if the data should be cropped in the center.\n",
    "\n",
    "  Returns:\n",
    "    (input_img, output_img) tuple of inputs and outputs to the ML model.\n",
    "  \"\"\"\n",
    "  if (random_crop and center_crop):\n",
    "    raise ValueError('Cannot have both random_crop and center_crop be True')\n",
    "  input_features, output_features = INPUT_FEATURES, OUTPUT_FEATURES\n",
    "  feature_names = input_features + output_features\n",
    "  features_dict = _get_features_dict(data_size, feature_names)\n",
    "  features = tf.io.parse_single_example(example_proto, features_dict)\n",
    "\n",
    "  if clip_and_normalize:\n",
    "    inputs_list = [\n",
    "        _clip_and_normalize(features.get(key), key) for key in input_features\n",
    "    ]\n",
    "  elif clip_and_rescale:\n",
    "    inputs_list = [\n",
    "        _clip_and_rescale(features.get(key), key) for key in input_features\n",
    "    ]\n",
    "  else:\n",
    "    inputs_list = [features.get(key) for key in input_features]\n",
    "  \n",
    "  inputs_stacked = tf.stack(inputs_list, axis=0)\n",
    "  input_img = tf.transpose(inputs_stacked, [1, 2, 0])\n",
    "\n",
    "  outputs_list = [features.get(key) for key in output_features]\n",
    "  assert outputs_list, 'outputs_list should not be empty'\n",
    "  outputs_stacked = tf.stack(outputs_list, axis=0)\n",
    "\n",
    "  outputs_stacked_shape = outputs_stacked.get_shape().as_list()\n",
    "  assert len(outputs_stacked.shape) == 3, ('outputs_stacked should be rank 3'\n",
    "                                            'but dimensions of outputs_stacked'\n",
    "                                            f' are {outputs_stacked_shape}')\n",
    "  output_img = tf.transpose(outputs_stacked, [1, 2, 0])\n",
    "\n",
    "  if random_crop:\n",
    "    input_img, output_img = random_crop_input_and_output_images(\n",
    "        input_img, output_img, sample_size, num_in_channels, 1)\n",
    "  if center_crop:\n",
    "    input_img, output_img = center_crop_input_and_output_images(\n",
    "        input_img, output_img, sample_size)\n",
    "  return input_img, output_img\n",
    "\n",
    "\n",
    "def get_dataset(file_pattern: Text, data_size: int, sample_size: int,\n",
    "                batch_size: int, num_in_channels: int, compression_type: Text,\n",
    "                clip_and_normalize: bool, clip_and_rescale: bool,\n",
    "                random_crop: bool, center_crop: bool) -> tf.data.Dataset:\n",
    "  \"\"\"Gets the dataset from the file pattern.\n",
    "\n",
    "  Args:\n",
    "    file_pattern: Input file pattern.\n",
    "    data_size: Size of tiles (square) as read from input files.\n",
    "    sample_size: Size the tiles (square) when input into the model.\n",
    "    batch_size: Batch size.\n",
    "    num_in_channels: Number of input channels.\n",
    "    compression_type: Type of compression used for the input files.\n",
    "    clip_and_normalize: True if the data should be clipped and normalized, False\n",
    "      otherwise.\n",
    "    clip_and_rescale: True if the data should be clipped and rescaled, False\n",
    "      otherwise.\n",
    "    random_crop: True if the data should be randomly cropped.\n",
    "    center_crop: True if the data shoulde be cropped in the center.\n",
    "\n",
    "  Returns:\n",
    "    A TensorFlow dataset loaded from the input file pattern, with features\n",
    "    described in the constants, and with the shapes determined from the input\n",
    "    parameters to this function.\n",
    "  \"\"\"\n",
    "  if (clip_and_normalize and clip_and_rescale):\n",
    "    raise ValueError('Cannot have both normalize and rescale.')\n",
    "  dataset = tf.data.Dataset.list_files(file_pattern)\n",
    "  dataset = dataset.interleave(\n",
    "      lambda x: tf.data.TFRecordDataset(x, compression_type=compression_type),\n",
    "      num_parallel_calls=tf.data.experimental.AUTOTUNE)\n",
    "  dataset = dataset.prefetch(buffer_size=tf.data.experimental.AUTOTUNE)\n",
    "  dataset = dataset.map(\n",
    "      lambda x: _parse_fn(  # pylint: disable=g-long-lambda\n",
    "          x, data_size, sample_size, num_in_channels, clip_and_normalize,\n",
    "          clip_and_rescale, random_crop, center_crop),\n",
    "      num_parallel_calls=tf.data.experimental.AUTOTUNE)\n",
    "  dataset = dataset.batch(batch_size)\n",
    "  dataset = dataset.prefetch(buffer_size=tf.data.experimental.AUTOTUNE)\n",
    "  return dataset"
   ]
  },
  {
   "cell_type": "markdown",
   "id": "b09910c8",
   "metadata": {
    "id": "rdNDytnsPTVK",
    "papermill": {
     "duration": 0.012029,
     "end_time": "2022-01-14T15:54:14.255389",
     "exception": false,
     "start_time": "2022-01-14T15:54:14.243360",
     "status": "completed"
    },
    "tags": []
   },
   "source": [
    "Load the dataset.\n",
    "\n",
    "The data are stored as 64x64 km regions. For each data sample, we extract a random 32x32 km region. In the following function call, we do not clip, rescale or normalize the data. "
   ]
  },
  {
   "cell_type": "code",
   "execution_count": null,
   "id": "c391a377",
   "metadata": {
    "execution": {
     "iopub.execute_input": "2022-01-14T15:54:14.282425Z",
     "iopub.status.busy": "2022-01-14T15:54:14.281799Z",
     "iopub.status.idle": "2022-01-14T15:54:14.837064Z",
     "shell.execute_reply": "2022-01-14T15:54:14.836399Z",
     "shell.execute_reply.started": "2021-12-04T23:22:00.260208Z"
    },
    "id": "X1jBBEinQbM0",
    "papermill": {
     "duration": 0.569777,
     "end_time": "2022-01-14T15:54:14.837238",
     "exception": false,
     "start_time": "2022-01-14T15:54:14.267461",
     "status": "completed"
    },
    "tags": []
   },
   "outputs": [],
   "source": [
    "dataset = get_dataset(\n",
    "      file_pattern,\n",
    "      data_size=64,\n",
    "      sample_size=32,\n",
    "      batch_size=100,\n",
    "      num_in_channels=12,\n",
    "      compression_type=None,\n",
    "      clip_and_normalize=False,\n",
    "      clip_and_rescale=False,\n",
    "      random_crop=True,\n",
    "      center_crop=False)"
   ]
  },
  {
   "cell_type": "markdown",
   "id": "ec4f07fc",
   "metadata": {
    "id": "Ca8USco0PdG3",
    "papermill": {
     "duration": 0.011834,
     "end_time": "2022-01-14T15:54:14.861535",
     "exception": false,
     "start_time": "2022-01-14T15:54:14.849701",
     "status": "completed"
    },
    "tags": []
   },
   "source": [
    "TF Datasets are loaded lazily, so materialize the first batch of inputs and labels."
   ]
  },
  {
   "cell_type": "code",
   "execution_count": null,
   "id": "5dabe4d7",
   "metadata": {
    "execution": {
     "iopub.execute_input": "2022-01-14T15:54:14.890835Z",
     "iopub.status.busy": "2022-01-14T15:54:14.890233Z",
     "iopub.status.idle": "2022-01-14T15:54:15.282878Z",
     "shell.execute_reply": "2022-01-14T15:54:15.282196Z",
     "shell.execute_reply.started": "2021-12-04T23:22:01.317751Z"
    },
    "id": "Ml7Rg8aCQiTT",
    "papermill": {
     "duration": 0.408878,
     "end_time": "2022-01-14T15:54:15.283057",
     "exception": false,
     "start_time": "2022-01-14T15:54:14.874179",
     "status": "completed"
    },
    "tags": []
   },
   "outputs": [],
   "source": [
    "inputs, labels = next(iter(dataset))"
   ]
  },
  {
   "cell_type": "markdown",
   "id": "c1ec95fa",
   "metadata": {
    "id": "bzCgCoxtgP-f",
    "papermill": {
     "duration": 0.012172,
     "end_time": "2022-01-14T15:54:15.308264",
     "exception": false,
     "start_time": "2022-01-14T15:54:15.296092",
     "status": "completed"
    },
    "tags": []
   },
   "source": [
    "# Plotting function"
   ]
  },
  {
   "cell_type": "markdown",
   "id": "60f9c68d",
   "metadata": {
    "papermill": {
     "duration": 0.012703,
     "end_time": "2022-01-14T15:54:15.334967",
     "exception": false,
     "start_time": "2022-01-14T15:54:15.322264",
     "status": "completed"
    },
    "tags": []
   },
   "source": [
    "Let's plot the data!\n",
    "\n",
    "First we define the names for each of our variables."
   ]
  },
  {
   "cell_type": "code",
   "execution_count": null,
   "id": "c3f914f0",
   "metadata": {
    "execution": {
     "iopub.execute_input": "2022-01-14T15:54:15.363803Z",
     "iopub.status.busy": "2022-01-14T15:54:15.363183Z",
     "iopub.status.idle": "2022-01-14T15:54:15.366554Z",
     "shell.execute_reply": "2022-01-14T15:54:15.367054Z",
     "shell.execute_reply.started": "2021-12-04T23:22:02.409372Z"
    },
    "id": "bnG0_l_ChjUt",
    "papermill": {
     "duration": 0.019459,
     "end_time": "2022-01-14T15:54:15.367216",
     "exception": false,
     "start_time": "2022-01-14T15:54:15.347757",
     "status": "completed"
    },
    "tags": []
   },
   "outputs": [],
   "source": [
    "TITLES = [\n",
    "  'Elevation',\n",
    "  'Wind\\ndirection',\n",
    "  'Wind\\nvelocity',\n",
    "  'Min\\ntemp',\n",
    "  'Max\\ntemp',\n",
    "  'Humidity',\n",
    "  'Precip',\n",
    "  'Drought',\n",
    "  'Vegetation',\n",
    "  'Population\\ndensity',\n",
    "  'Energy\\nrelease\\ncomponent',\n",
    "  'Previous\\nfire\\nmask',\n",
    "  'Fire\\nmask'\n",
    "]"
   ]
  },
  {
   "cell_type": "markdown",
   "id": "319ca9b5",
   "metadata": {
    "papermill": {
     "duration": 0.012002,
     "end_time": "2022-01-14T15:54:15.391733",
     "exception": false,
     "start_time": "2022-01-14T15:54:15.379731",
     "status": "completed"
    },
    "tags": []
   },
   "source": [
    "Define some helper variables for the plot. "
   ]
  },
  {
   "cell_type": "code",
   "execution_count": null,
   "id": "9ac64e86",
   "metadata": {
    "execution": {
     "iopub.execute_input": "2022-01-14T15:54:15.423264Z",
     "iopub.status.busy": "2022-01-14T15:54:15.421081Z",
     "iopub.status.idle": "2022-01-14T15:54:15.426544Z",
     "shell.execute_reply": "2022-01-14T15:54:15.427097Z",
     "shell.execute_reply.started": "2021-12-04T23:22:03.02903Z"
    },
    "id": "G0E6lWR9beD0",
    "papermill": {
     "duration": 0.022622,
     "end_time": "2022-01-14T15:54:15.427280",
     "exception": false,
     "start_time": "2022-01-14T15:54:15.404658",
     "status": "completed"
    },
    "tags": []
   },
   "outputs": [],
   "source": [
    "# Number of rows of data samples to plot\n",
    "n_rows = 5 \n",
    "# Number of data variables\n",
    "n_features = inputs.shape[3]\n",
    "# Variables for controllong the color map for the fire masks\n",
    "CMAP = colors.ListedColormap(['black', 'silver', 'orangered'])\n",
    "BOUNDS = [-1, -0.1, 0.001, 1]\n",
    "NORM = colors.BoundaryNorm(BOUNDS, CMAP.N)"
   ]
  },
  {
   "cell_type": "code",
   "execution_count": null,
   "id": "1c3b4bf3",
   "metadata": {
    "execution": {
     "iopub.execute_input": "2022-01-14T15:54:15.470753Z",
     "iopub.status.busy": "2022-01-14T15:54:15.470107Z",
     "iopub.status.idle": "2022-01-14T15:54:18.578321Z",
     "shell.execute_reply": "2022-01-14T15:54:18.578783Z",
     "shell.execute_reply.started": "2021-12-04T23:22:03.735694Z"
    },
    "id": "sPtKQzQv71J_",
    "outputId": "6694ad6e-0044-4fbc-b184-f615ac14a885",
    "papermill": {
     "duration": 3.138399,
     "end_time": "2022-01-14T15:54:18.578945",
     "exception": false,
     "start_time": "2022-01-14T15:54:15.440546",
     "status": "completed"
    },
    "tags": []
   },
   "outputs": [],
   "source": [
    "fig = plt.figure(figsize=(15,6.5))\n",
    "\n",
    "for i in range(n_rows):\n",
    "  for j in range(n_features + 1):\n",
    "    plt.subplot(n_rows, n_features + 1, i * (n_features + 1) + j + 1)\n",
    "    if i == 0:\n",
    "      plt.title(TITLES[j], fontsize=13)\n",
    "    if j < n_features - 1:\n",
    "      plt.imshow(inputs[i, :, :, j], cmap='viridis')\n",
    "    if j == n_features - 1:\n",
    "      plt.imshow(inputs[i, :, :, -1], cmap=CMAP, norm=NORM)\n",
    "    if j == n_features:\n",
    "      plt.imshow(labels[i, :, :, 0], cmap=CMAP, norm=NORM) \n",
    "    plt.axis('off')\n",
    "plt.tight_layout()"
   ]
  }
 ],
 "metadata": {
  "kernelspec": {
   "display_name": "Python 3",
   "language": "python",
   "name": "python3"
  },
  "language_info": {
   "codemirror_mode": {
    "name": "ipython",
    "version": 3
   },
   "file_extension": ".py",
   "mimetype": "text/x-python",
   "name": "python",
   "nbconvert_exporter": "python",
   "pygments_lexer": "ipython3",
   "version": "3.10.10"
  },
  "papermill": {
   "default_parameters": {},
   "duration": 20.600955,
   "end_time": "2022-01-14T15:54:21.456243",
   "environment_variables": {},
   "exception": null,
   "input_path": "__notebook__.ipynb",
   "output_path": "__notebook__.ipynb",
   "parameters": {},
   "start_time": "2022-01-14T15:54:00.855288",
   "version": "2.3.3"
  }
 },
 "nbformat": 4,
 "nbformat_minor": 5
}
