{
 "cells": [
  {
   "cell_type": "code",
   "execution_count": null,
   "metadata": {},
   "outputs": [],
   "source": [
    "import numpy as np\n",
    "import matplotlib.pyplot as plt"
   ]
  },
  {
   "cell_type": "code",
   "execution_count": null,
   "metadata": {},
   "outputs": [],
   "source": [
    "W = lambda L: L / np.sqrt(12)\n",
    "a, b = 0, 10\n",
    "L = np.linspace(a, b, 1000)\n",
    "WL = W(L)\n",
    "# set width of x dimension\n",
    "plt.figure(figsize=(10, 5))\n",
    "plt.xlim(a, b)\n",
    "plt.ylim(0, np.max(np.nan_to_num(WL)))\n",
    "plt.plot(L, WL, label='W(L)')\n",
    "plt.xlabel('L')\n",
    "plt.ylabel('W(L)')\n",
    "plt.xticks(np.arange(a, b, 1))\n",
    "\n",
    "# get a best fit line\n",
    "bounds = (10, 100)\n",
    "x = np.linspace(bounds[0], bounds[1])\n",
    "fit = np.polyfit(x, W(x), 1)\n",
    "fit_fn = np.poly1d(fit)\n",
    "print(fit)\n",
    "print(f'y={fit[0]}x+{fit[1]}')\n",
    "plt.plot(L, fit_fn(L), '--k', label=f'Best fit [{bounds[0]}, {bounds[1]}]')\n",
    "\n",
    "plt.legend()\n",
    "plt.show()"
   ]
  }
 ],
 "metadata": {
  "kernelspec": {
   "display_name": "base",
   "language": "python",
   "name": "python3"
  },
  "language_info": {
   "codemirror_mode": {
    "name": "ipython",
    "version": 3
   },
   "file_extension": ".py",
   "mimetype": "text/x-python",
   "name": "python",
   "nbconvert_exporter": "python",
   "pygments_lexer": "ipython3",
   "version": "3.11.4"
  },
  "orig_nbformat": 4
 },
 "nbformat": 4,
 "nbformat_minor": 2
}
